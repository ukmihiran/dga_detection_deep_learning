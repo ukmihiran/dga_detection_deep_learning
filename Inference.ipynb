{
 "cells": [
  {
   "cell_type": "code",
   "execution_count": 9,
   "metadata": {
    "executionInfo": {
     "elapsed": 382,
     "status": "ok",
     "timestamp": 1674655455607,
     "user": {
      "displayName": "Nadun Dilhara",
      "userId": "16784166451109698918"
     },
     "user_tz": -330
    },
    "id": "vNDMle_E1Ei8"
   },
   "outputs": [],
   "source": [
    "# Mount Drive\n",
    "# from google.colab import drive\n",
    "# drive.mount('/content/drive') "
   ]
  },
  {
   "cell_type": "code",
   "execution_count": 10,
   "metadata": {
    "executionInfo": {
     "elapsed": 5,
     "status": "ok",
     "timestamp": 1674655455981,
     "user": {
      "displayName": "Nadun Dilhara",
      "userId": "16784166451109698918"
     },
     "user_tz": -330
    },
    "id": "sIqwyA1c1QYO"
   },
   "outputs": [],
   "source": [
    "import tensorflow as tf\n",
    "import json\n",
    "import joblib\n",
    "import pandas as pd\n",
    "import numpy as np\n",
    "from keras_preprocessing.sequence import pad_sequences\n",
    "from keras.layers import Embedding, LSTM, Dense, Dropout\n",
    "from keras.models import Sequential\n",
    "from keras.models import load_model"
   ]
  },
  {
   "cell_type": "code",
   "execution_count": 11,
   "metadata": {
    "executionInfo": {
     "elapsed": 806,
     "status": "ok",
     "timestamp": 1674655456782,
     "user": {
      "displayName": "Nadun Dilhara",
      "userId": "16784166451109698918"
     },
     "user_tz": -330
    },
    "id": "4O-UV2A21h-0"
   },
   "outputs": [],
   "source": [
    "RANDOM_STATE = 42\n",
    "MAX_LENGTH = 20\n",
    "\n",
    "\n",
    "### Set Paths\n",
    "binary_tokenizer_path = r'utils_DGA_BINARY/Binary_tokenizer.json'\n",
    "class_tokenizer_path = r'utils_DGA_Classes/Class_tokenizer.json'\n",
    "\n",
    "hot_encoder_path = r'utils_DGA_BINARY/hot_encode.sav'\n",
    "label_encoder_path = r'utils_DGA_Classes/Label_encode.sav'\n",
    "\n",
    "DGA_model_path = load_model('DGA_Binary_Model.h5')\n",
    "class_classification_model_path =load_model('DGA_Class_Final_Model.h5')\n",
    "\n",
    "\n",
    "### **Load Data from Trainning**\n",
    "# Load Tokenizer\n",
    "with open(class_tokenizer_path) as f:\n",
    "    data = json.load(f)\n",
    "    class_tokenizer = tf.keras.preprocessing.text.tokenizer_from_json(data)\n",
    "\n",
    "with open(binary_tokenizer_path) as f:\n",
    "    data = json.load(f)\n",
    "    binary_tokenizer = tf.keras.preprocessing.text.tokenizer_from_json(data)\n",
    "    \n"
   ]
  },
  {
   "cell_type": "code",
   "execution_count": 12,
   "metadata": {
    "executionInfo": {
     "elapsed": 8,
     "status": "ok",
     "timestamp": 1674655456784,
     "user": {
      "displayName": "Nadun Dilhara",
      "userId": "16784166451109698918"
     },
     "user_tz": -330
    },
    "id": "TvyKDNS42ZQM"
   },
   "outputs": [],
   "source": [
    "# Load Encoder\n",
    "hot_encoder = joblib.load(hot_encoder_path)\n",
    "label_encoder = joblib.load(label_encoder_path)"
   ]
  },
  {
   "cell_type": "code",
   "execution_count": 15,
   "metadata": {
    "executionInfo": {
     "elapsed": 8,
     "status": "ok",
     "timestamp": 1674655456785,
     "user": {
      "displayName": "Nadun Dilhara",
      "userId": "16784166451109698918"
     },
     "user_tz": -330
    },
    "id": "_wLwTmuv1lH4"
   },
   "outputs": [],
   "source": [
    "def preprocess_text(text):\n",
    "  if text[:3] == \"www\":\n",
    "    text = text[4:]\n",
    "  return text\n",
    "\n",
    "def text_formation(test_website):\n",
    "  #print(test_website)\n",
    "  text = preprocess_text(test_website)\n",
    "  #print(text)\n",
    "  encode_text = pd.Series(text)\n",
    "  #print(encode_text)\n",
    "\n",
    "  binary_encode_text = binary_tokenizer.texts_to_sequences(encode_text)\n",
    "  binary_encode_text = pad_sequences(binary_encode_text, maxlen = MAX_LENGTH , padding='post')\n",
    "\n",
    "  class_encode_text = class_tokenizer.texts_to_sequences(encode_text)\n",
    "  class_encode_text = pad_sequences(class_encode_text, maxlen = MAX_LENGTH , padding='post')\n",
    "\n",
    "  return binary_encode_text,class_encode_text\n",
    "\n",
    "\n",
    "def binary_prediction(binary_encode_text):\n",
    "  prediction_binary = DGA_model_path.predict(binary_encode_text,verbose=0)\n",
    "  # print(prediction_binary)\n",
    "  binary_pred_acc = np.amax(prediction_binary)\n",
    "  prediction_binary = hot_encoder.inverse_transform(prediction_binary)[0][0]\n",
    "  return prediction_binary,binary_pred_acc\n",
    "\n",
    "def class_prediction(class_encode_text):\n",
    "  prediction_class = class_classification_model_path.predict(class_encode_text,verbose=0)\n",
    "  class_pred_acc = np.amax(prediction_class)\n",
    "  prediction_class = np.argmax(prediction_class, axis=1)\n",
    "  prediction_class = label_encoder.inverse_transform(prediction_class)[0]\n",
    "  return prediction_class,class_pred_acc\n",
    "\n",
    "\n",
    "def inferencing(test_website):\n",
    "    binary_encode_text,class_encode_text = text_formation(test_website)\n",
    "    # print(binary_encode_text)\n",
    "    # print(class_encode_text)\n",
    "    \n",
    "    prediction_binary,binary_pred_acc = binary_prediction(binary_encode_text)\n",
    "    print(f'The Website : {test_website} is {prediction_binary}')\n",
    "    \n",
    "    binary_prediction_arry = [prediction_binary,binary_pred_acc]\n",
    "    \n",
    "    # print(binary_pred_acc)\n",
    "    \n",
    "    if prediction_binary == 'DGA':\n",
    "        prediction_class,class_pred_acc = class_prediction(class_encode_text)\n",
    "        print(f'The Website : {test_website} is {prediction_class}')\n",
    "        print(\"ALERT !!!\")\n",
    "        return [binary_prediction_arry,[prediction_class,class_pred_acc]]\n",
    "    else:\n",
    "        return [binary_prediction_arry]\n",
    "        \n",
    "    \n",
    "    #print(class_pred_acc)"
   ]
  },
  {
   "cell_type": "code",
   "execution_count": 16,
   "metadata": {
    "colab": {
     "base_uri": "https://localhost:8080/"
    },
    "executionInfo": {
     "elapsed": 567,
     "status": "ok",
     "timestamp": 1674655712854,
     "user": {
      "displayName": "Nadun Dilhara",
      "userId": "16784166451109698918"
     },
     "user_tz": -330
    },
    "id": "jw10W_vM1TPk",
    "outputId": "196acfb2-983e-456a-8fef-9263a55d0f0f"
   },
   "outputs": [
    {
     "name": "stdout",
     "output_type": "stream",
     "text": [
      "The Website : WWW.XN--ZALGO003446-SJGB60AIGHL2I8JC3B0A2A97FTBLL0CZA.COM is DGA\n",
      "The Website : WWW.XN--ZALGO003446-SJGB60AIGHL2I8JC3B0A2A97FTBLL0CZA.COM is gameover\n",
      "ALERT !!!\n",
      "[['DGA', 0.9981792], ['gameover', 1.0]]\n"
     ]
    }
   ],
   "source": [
    "## Enter Custom URL\n",
    "# test_website = 'www.xkkumnnbpr.com'   #'earnestnessbiophysicalohax.com'\n",
    "test_website = 'WWW.XN--ZALGO003446-SJGB60AIGHL2I8JC3B0A2A97FTBLL0CZA.COM'\n",
    "print(inferencing(test_website))"
   ]
  }
 ],
 "metadata": {
  "colab": {
   "provenance": []
  },
  "kernelspec": {
   "display_name": "Python 3",
   "name": "python3"
  },
  "language_info": {
   "name": "python"
  }
 },
 "nbformat": 4,
 "nbformat_minor": 0
}
